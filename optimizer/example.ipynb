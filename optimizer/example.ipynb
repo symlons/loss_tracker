{
 "cells": [
  {
   "cell_type": "code",
   "execution_count": 3,
   "id": "7fc89a32",
   "metadata": {},
   "outputs": [],
   "source": [
    "import math\n",
    "import optim"
   ]
  },
  {
   "cell_type": "code",
   "execution_count": 12,
   "id": "012573a7",
   "metadata": {},
   "outputs": [],
   "source": [
    "for x in range(2000):\n",
    "    y = optim.log(x, math.sin(x/20),'secfo')"
   ]
  }
 ],
 "metadata": {
  "kernelspec": {
   "display_name": "Python 3",
   "language": "python",
   "name": "python3"
  },
  "language_info": {
   "codemirror_mode": {
    "name": "ipython",
    "version": 3
   },
   "file_extension": ".py",
   "mimetype": "text/x-python",
   "name": "python",
   "nbconvert_exporter": "python",
   "pygments_lexer": "ipython3",
   "version": "3.8.8"
  }
 },
 "nbformat": 4,
 "nbformat_minor": 5
}
