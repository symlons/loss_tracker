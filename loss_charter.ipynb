{
 "cells": [
  {
   "cell_type": "code",
   "execution_count": 24,
   "metadata": {
    "scrolled": false
   },
   "outputs": [],
   "source": [
    "import requests\n",
    "from time import sleep\n",
    "import random\n",
    "import math\n",
    "import matplotlib.pyplot as plt\n",
    "import time"
   ]
  },
  {
   "cell_type": "code",
   "execution_count": 61,
   "metadata": {},
   "outputs": [
    {
     "name": "stdout",
     "output_type": "stream",
     "text": [
      "1.6234710216522217\n"
     ]
    }
   ],
   "source": [
    "start = time.time()\n",
    "for i in range(400):\n",
    "    t = math.sin(i/20)\n",
    "    requests.post(\"http://localhost:5004/api/loss_charting\", json={\"yCoordinates\": t,'xCoordinates': i})\n",
    "    \n",
    "end = time.time()\n",
    "print(end - start)"
   ]
  },
  {
   "cell_type": "code",
   "execution_count": 67,
   "metadata": {},
   "outputs": [
    {
     "data": {
      "text/plain": [
       "<Response [200]>"
      ]
     },
     "execution_count": 67,
     "metadata": {},
     "output_type": "execute_result"
    }
   ],
   "source": [
    "requests.post(\"http://localhost:5004/api/loss_charting\", json={\"yCoordinates\": (0,1,20),'xCoordinates': (0,1,2)})"
   ]
  },
  {
   "cell_type": "code",
   "execution_count": 69,
   "metadata": {},
   "outputs": [],
   "source": [
    "import requests as rq\n",
    "\n",
    "session = rq.Session()\n",
    "\n",
    "def log(x, y, host=\"http://localhost:5004/api/loss_charting\", name='first'):\n",
    "    payload = {'name': name, \"yCoordinates\": y, 'xCoordinates': x}\n",
    "    session.post(host, json=payload)"
   ]
  },
  {
   "cell_type": "code",
   "execution_count": 74,
   "metadata": {},
   "outputs": [],
   "source": [
    "import sys\n",
    "sys.path.append('/Users/sfkost/Projects/loss_tracker/optimizer')\n",
    "\n",
    "import optim"
   ]
  },
  {
   "cell_type": "code",
   "execution_count": 105,
   "metadata": {},
   "outputs": [],
   "source": [
    "import math\n",
    "import optim\n",
    "\n",
    "for x in range(100):\n",
    "    y = optim.log(x, math.sin(x/20), name='ssd')"
   ]
  },
  {
   "cell_type": "code",
   "execution_count": null,
   "metadata": {},
   "outputs": [],
   "source": []
  }
 ],
 "metadata": {
  "kernelspec": {
   "display_name": "Python 3",
   "language": "python",
   "name": "python3"
  },
  "language_info": {
   "codemirror_mode": {
    "name": "ipython",
    "version": 3
   },
   "file_extension": ".py",
   "mimetype": "text/x-python",
   "name": "python",
   "nbconvert_exporter": "python",
   "pygments_lexer": "ipython3",
   "version": "3.8.8"
  }
 },
 "nbformat": 4,
 "nbformat_minor": 4
}
