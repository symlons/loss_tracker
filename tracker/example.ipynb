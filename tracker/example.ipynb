{
 "cells": [
  {
   "cell_type": "code",
   "execution_count": 5,
   "id": "1ba618ed-7e30-4a4b-a24a-73f1e5ae0bca",
   "metadata": {},
   "outputs": [
    {
     "data": {
      "text/plain": [
       "<module 'tracker' from '/Users/sfkost/Projects/loss_tracker/tracker/tracker/__init__.py'>"
      ]
     },
     "execution_count": 5,
     "metadata": {},
     "output_type": "execute_result"
    }
   ],
   "source": [
    "import math\n",
    "import tracker\n",
    "import importlib\n",
    "importlib.reload(tracker)"
   ]
  },
  {
   "cell_type": "code",
   "execution_count": 6,
   "id": "f0dc22be-39de-4531-b683-6a5446739b24",
   "metadata": {},
   "outputs": [],
   "source": [
    "from tracker.manage_envs import Config"
   ]
  },
  {
   "cell_type": "code",
   "execution_count": 7,
   "id": "584a73c5-4b66-4f91-8e6f-b67e12c15497",
   "metadata": {},
   "outputs": [
    {
     "data": {
      "text/plain": [
       "'http://167.235.139.154/api/api/loss_charting'"
      ]
     },
     "execution_count": 7,
     "metadata": {},
     "output_type": "execute_result"
    }
   ],
   "source": [
    "config = Config()\n",
    "config.api_host"
   ]
  },
  {
   "cell_type": "code",
   "execution_count": 8,
   "id": "ab5c6ad6",
   "metadata": {},
   "outputs": [
    {
     "name": "stdout",
     "output_type": "stream",
     "text": [
      "http://167.235.139.154/api/api/loss_charting\n",
      "0\n",
      "Pushing to host: http://167.235.139.154/api/api/loss_charting\n",
      "2000\n",
      "Pushing to host: http://167.235.139.154/api/api/loss_charting\n"
     ]
    }
   ],
   "source": [
    "x = []\n",
    "y = []\n",
    "\n",
    "count = 0\n",
    "iterations = 2000 + 1\n",
    "x1 = tracker.xy(name='q')\n",
    "for i in range(iterations):\n",
    "    x.append(i) \n",
    "    y.append(math.sin(i))\n",
    "    if i % (iterations - 1) == 0:\n",
    "        print(i)\n",
    "        count += len(x[i:])\n",
    "        x1.push(x[:i], y[:i])"
   ]
  },
  {
   "cell_type": "code",
   "execution_count": 26,
   "id": "5932fd25",
   "metadata": {},
   "outputs": [],
   "source": [
    "x2 = tracker.xy()\n",
    "for i in range(2000):\n",
    "    x = [i]\n",
    "    y = [math.sin(i)]\n",
    "    x2.push(x, y)"
   ]
  },
  {
   "cell_type": "code",
   "execution_count": 12,
   "id": "7ab940d1",
   "metadata": {
    "scrolled": true
   },
   "outputs": [],
   "source": [
    "from tracker import log\n",
    "import math\n",
    "\n",
    "\n",
    "x = [i for i in range(1000)]\n",
    "y = [math.sin(i) for i in range(1000)]\n",
    "tracker.xy().push(x,y)"
   ]
  },
  {
   "cell_type": "code",
   "execution_count": 13,
   "id": "47100542",
   "metadata": {},
   "outputs": [],
   "source": [
    "from tracker import log\n",
    "import math\n",
    "import random\n",
    "\n",
    "\n",
    "x3 = tracker.xy(name='5')\n",
    "for i in range(10000):\n",
    "    x3.push(i, random.gauss(0.1, 0.5)*10)\n",
    "x3.zero_track()"
   ]
  },
  {
   "cell_type": "code",
   "execution_count": 14,
   "id": "354444c9",
   "metadata": {},
   "outputs": [],
   "source": [
    "import math\n",
    "import random\n",
    "\n",
    "x4 = tracker.xy(name='7')\n",
    "for i in range(100000):\n",
    "    x4.push(i, random.gauss(0.1, 0.5))\n",
    "x4.zero_track()"
   ]
  },
  {
   "cell_type": "code",
   "execution_count": 15,
   "id": "fdc00abc",
   "metadata": {},
   "outputs": [],
   "source": [
    "import random\n",
    "import tracker\n",
    "import numpy as np"
   ]
  },
  {
   "cell_type": "code",
   "execution_count": 16,
   "id": "54ce19f8",
   "metadata": {},
   "outputs": [],
   "source": [
    "t1 = tracker.log(name='r')\n",
    "for i in range(500):\n",
    "    t1.push(i)\n",
    "t1.zero_track()"
   ]
  },
  {
   "cell_type": "code",
   "execution_count": 17,
   "id": "0ccaa5bd",
   "metadata": {},
   "outputs": [],
   "source": [
    "t2 = tracker.log(name='b')\n",
    "for i in range(1000):\n",
    "    t2.push(i**2)"
   ]
  },
  {
   "cell_type": "code",
   "execution_count": 18,
   "id": "7f41151e",
   "metadata": {},
   "outputs": [],
   "source": [
    "t3 = tracker.log(name='u')\n",
    "for i in range(1000):\n",
    "    t3.push(i**1.5)\n",
    "t3.zero_track()"
   ]
  },
  {
   "cell_type": "code",
   "execution_count": 19,
   "id": "39f4cade",
   "metadata": {},
   "outputs": [],
   "source": [
    "t4 = tracker.xy(name='b')"
   ]
  },
  {
   "cell_type": "code",
   "execution_count": 20,
   "id": "2810a42b",
   "metadata": {},
   "outputs": [],
   "source": [
    "t4.push(np.arange(1000).tolist(), np.arange(1000).tolist())"
   ]
  },
  {
   "cell_type": "code",
   "execution_count": 21,
   "id": "a9c10500",
   "metadata": {},
   "outputs": [],
   "source": [
    "t4 = tracker.log(name='b')\n",
    "t4.push(np.arange(1000).tolist())"
   ]
  },
  {
   "cell_type": "code",
   "execution_count": null,
   "id": "7749485b",
   "metadata": {},
   "outputs": [],
   "source": []
  }
 ],
 "metadata": {
  "kernelspec": {
   "display_name": "Python 3 (ipykernel)",
   "language": "python",
   "name": "python3"
  },
  "language_info": {
   "codemirror_mode": {
    "name": "ipython",
    "version": 3
   },
   "file_extension": ".py",
   "mimetype": "text/x-python",
   "name": "python",
   "nbconvert_exporter": "python",
   "pygments_lexer": "ipython3",
   "version": "3.12.7"
  }
 },
 "nbformat": 4,
 "nbformat_minor": 5
}
