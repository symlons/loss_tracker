{
 "cells": [
  {
   "cell_type": "code",
   "execution_count": 1,
   "id": "7fc89a32",
   "metadata": {},
   "outputs": [],
   "source": [
    "import math\n",
    "import tracker"
   ]
  },
  {
   "cell_type": "code",
   "execution_count": 22,
   "id": "ab5c6ad6",
   "metadata": {
    "scrolled": false
   },
   "outputs": [
    {
     "name": "stdout",
     "output_type": "stream",
     "text": [
      "0\n",
      "2000\n"
     ]
    }
   ],
   "source": [
    "x = []\n",
    "y = []\n",
    "count = 0\n",
    "iterations = 2000 + 1\n",
    "for i in range(iterations):\n",
    "    x.append(i) \n",
    "    y.append(math.sin(i))\n",
    "    if i % (iterations -1) == 0:\n",
    "        print(i)\n",
    "        count += len(x[i:])\n",
    "        tracker.log(x[:i], y[:i],  'q')"
   ]
  },
  {
   "cell_type": "code",
   "execution_count": 23,
   "id": "5932fd25",
   "metadata": {},
   "outputs": [],
   "source": [
    "for i in range(2000):\n",
    "    x = [i]\n",
    "    y = [math.sin(i)]\n",
    "    tracker.log(x, y)"
   ]
  },
  {
   "cell_type": "code",
   "execution_count": 24,
   "id": "eed46845",
   "metadata": {},
   "outputs": [
    {
     "name": "stdout",
     "output_type": "stream",
     "text": [
      "0\n",
      "200\n"
     ]
    }
   ],
   "source": [
    "for i in range(201):\n",
    "    if i % (200) == 0:\n",
    "        print(i)"
   ]
  },
  {
   "cell_type": "code",
   "execution_count": 25,
   "id": "7ab940d1",
   "metadata": {
    "scrolled": true
   },
   "outputs": [],
   "source": [
    "from tracker import log\n",
    "import math\n",
    "\n",
    "\n",
    "x = [i for i in range(1000)]\n",
    "y = [math.sin(i) for i in range(1000)]"
   ]
  },
  {
   "cell_type": "code",
   "execution_count": 26,
   "id": "a050c58b",
   "metadata": {},
   "outputs": [
    {
     "data": {
      "text/plain": [
       "<tracker.log at 0x1065f7c10>"
      ]
     },
     "execution_count": 26,
     "metadata": {},
     "output_type": "execute_result"
    }
   ],
   "source": [
    "\n",
    "log(x,y)"
   ]
  },
  {
   "cell_type": "code",
   "execution_count": 27,
   "id": "47100542",
   "metadata": {},
   "outputs": [],
   "source": [
    "from tracker import log\n",
    "import math\n",
    "import random\n",
    "\n",
    "for i in range(10000):\n",
    "    log(i, random.gauss(0.1, 0.5), '5')"
   ]
  },
  {
   "cell_type": "code",
   "execution_count": 28,
   "id": "354444c9",
   "metadata": {},
   "outputs": [],
   "source": [
    "from tracker import log\n",
    "import math\n",
    "import random\n",
    "\n",
    "for i in range(100000):\n",
    "    log(i, random.gauss(0.1, 0.5), '7')"
   ]
  },
  {
   "cell_type": "code",
   "execution_count": 1,
   "id": "fdc00abc",
   "metadata": {},
   "outputs": [],
   "source": [
    "import random\n",
    "import tracker\n",
    "import numpy as np"
   ]
  },
  {
   "cell_type": "code",
   "execution_count": 2,
   "id": "54ce19f8",
   "metadata": {},
   "outputs": [],
   "source": [
    "for i in range(10000):\n",
    "    t1 = tracker.log(i, 'r')\n",
    "t1.zero_track()"
   ]
  },
  {
   "cell_type": "code",
   "execution_count": 4,
   "id": "0ccaa5bd",
   "metadata": {},
   "outputs": [],
   "source": [
    "for i in range(1000):\n",
    "    t2 = tracker.log(i**2, 'b')\n",
    "#t2.zero_track()"
   ]
  },
  {
   "cell_type": "code",
   "execution_count": 37,
   "id": "39f4cade",
   "metadata": {},
   "outputs": [
    {
     "data": {
      "text/plain": [
       "<tracker.xy at 0x107835b40>"
      ]
     },
     "execution_count": 37,
     "metadata": {},
     "output_type": "execute_result"
    }
   ],
   "source": [
    "tracker.xy(list(np.arange(1000)), list(np.arange(1000)), 'b')"
   ]
  },
  {
   "cell_type": "code",
   "execution_count": null,
   "id": "b677b33d",
   "metadata": {},
   "outputs": [],
   "source": []
  }
 ],
 "metadata": {
  "kernelspec": {
   "display_name": "Python 3 (ipykernel)",
   "language": "python",
   "name": "python3"
  },
  "language_info": {
   "codemirror_mode": {
    "name": "ipython",
    "version": 3
   },
   "file_extension": ".py",
   "mimetype": "text/x-python",
   "name": "python",
   "nbconvert_exporter": "python",
   "pygments_lexer": "ipython3",
   "version": "3.10.6"
  }
 },
 "nbformat": 4,
 "nbformat_minor": 5
}
