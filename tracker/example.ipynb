{
 "cells": [
  {
   "cell_type": "code",
   "execution_count": 163,
   "id": "7fc89a32",
   "metadata": {},
   "outputs": [
    {
     "name": "stdout",
     "output_type": "stream",
     "text": [
      "The autoreload extension is already loaded. To reload it, use:\n",
      "  %reload_ext autoreload\n"
     ]
    }
   ],
   "source": [
    "import math\n",
    "import tracker\n",
    "%load_ext autoreload\n",
    "%autoreload 2"
   ]
  },
  {
   "cell_type": "code",
   "execution_count": 144,
   "id": "ab5c6ad6",
   "metadata": {
    "scrolled": false
   },
   "outputs": [
    {
     "name": "stdout",
     "output_type": "stream",
     "text": [
      "0\n",
      "2000\n"
     ]
    }
   ],
   "source": [
    "x = []\n",
    "y = []\n",
    "\n",
    "count = 0\n",
    "iterations = 2000 + 1\n",
    "x1 = tracker.xy(name='q')\n",
    "for i in range(iterations):\n",
    "    x.append(i) \n",
    "    y.append(math.sin(i))\n",
    "    if i % (iterations - 1) == 0:\n",
    "        print(i)\n",
    "        count += len(x[i:])\n",
    "        x1.push(x[:i], y[:i])"
   ]
  },
  {
   "cell_type": "code",
   "execution_count": 145,
   "id": "5932fd25",
   "metadata": {},
   "outputs": [],
   "source": [
    "x2 = tracker.xy()\n",
    "for i in range(2000):\n",
    "    x = [i]\n",
    "    y = [math.sin(i)]\n",
    "    x2.push(x, y)"
   ]
  },
  {
   "cell_type": "code",
   "execution_count": 146,
   "id": "eed46845",
   "metadata": {},
   "outputs": [
    {
     "name": "stdout",
     "output_type": "stream",
     "text": [
      "0\n",
      "200\n"
     ]
    }
   ],
   "source": [
    "for i in range(201):\n",
    "    if i % (200) == 0:\n",
    "        print(i)"
   ]
  },
  {
   "cell_type": "code",
   "execution_count": 147,
   "id": "7ab940d1",
   "metadata": {
    "scrolled": true
   },
   "outputs": [],
   "source": [
    "from tracker import log\n",
    "import math\n",
    "\n",
    "\n",
    "x = [i for i in range(1000)]\n",
    "y = [math.sin(i) for i in range(1000)]\n",
    "tracker.xy().push(x,y)"
   ]
  },
  {
   "cell_type": "code",
   "execution_count": 149,
   "id": "47100542",
   "metadata": {},
   "outputs": [],
   "source": [
    "from tracker import log\n",
    "import math\n",
    "import random\n",
    "\n",
    "tracker.xy.zero_track()\n",
    "\n",
    "x3 = tracker.xy(name='5')\n",
    "for i in range(10000):\n",
    "    x3.push(i, random.gauss(0.1, 0.5)*10)"
   ]
  },
  {
   "cell_type": "code",
   "execution_count": 152,
   "id": "354444c9",
   "metadata": {},
   "outputs": [],
   "source": [
    "import math\n",
    "import random\n",
    "\n",
    "x4 = tracker.xy(name='7')\n",
    "for i in range(100000):\n",
    "    x4.push(i, random.gauss(0.1, 0.5))"
   ]
  },
  {
   "cell_type": "code",
   "execution_count": 215,
   "id": "fdc00abc",
   "metadata": {},
   "outputs": [],
   "source": [
    "import random\n",
    "import tracker\n",
    "import numpy as np"
   ]
  },
  {
   "cell_type": "code",
   "execution_count": 253,
   "id": "54ce19f8",
   "metadata": {},
   "outputs": [],
   "source": [
    "# TODO: fix in frontend\n",
    "t1 = tracker.log(name='r')\n",
    "for i in range(50000):\n",
    "    t1.push(i)\n",
    "t1.zero_track()"
   ]
  },
  {
   "cell_type": "code",
   "execution_count": 241,
   "id": "0ccaa5bd",
   "metadata": {},
   "outputs": [],
   "source": [
    "t2 = tracker.log(name='b')\n",
    "for i in range(1000):\n",
    "    t2.push(i**2)"
   ]
  },
  {
   "cell_type": "code",
   "execution_count": 224,
   "id": "783232fa",
   "metadata": {},
   "outputs": [],
   "source": [
    "t3 = tracker.log(name='u')\n",
    "for i in range(1000):\n",
    "    t3.push(i**1.5)\n",
    "t3.zero_track()"
   ]
  },
  {
   "cell_type": "code",
   "execution_count": 201,
   "id": "39f4cade",
   "metadata": {},
   "outputs": [
    {
     "name": "stdout",
     "output_type": "stream",
     "text": [
      "<class 'list'>\n",
      "<class 'list'>\n",
      "<class 'str'>\n"
     ]
    }
   ],
   "source": [
    "tracker.xy.zero_track()\n",
    "t4 = tracker.xy(name='b')\n",
    "t4.push(np.arange(1000).tolist(), np.arange(1000).tolist())"
   ]
  },
  {
   "cell_type": "code",
   "execution_count": null,
   "id": "0a77b283",
   "metadata": {},
   "outputs": [],
   "source": []
  }
 ],
 "metadata": {
  "kernelspec": {
   "display_name": "Python 3 (ipykernel)",
   "language": "python",
   "name": "python3"
  },
  "language_info": {
   "codemirror_mode": {
    "name": "ipython",
    "version": 3
   },
   "file_extension": ".py",
   "mimetype": "text/x-python",
   "name": "python",
   "nbconvert_exporter": "python",
   "pygments_lexer": "ipython3",
   "version": "3.10.6"
  }
 },
 "nbformat": 4,
 "nbformat_minor": 5
}
