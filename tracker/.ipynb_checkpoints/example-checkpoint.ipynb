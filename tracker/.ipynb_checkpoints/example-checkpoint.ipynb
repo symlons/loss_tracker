{
 "cells": [
  {
   "cell_type": "code",
   "execution_count": 2,
   "id": "7fc89a32",
   "metadata": {},
   "outputs": [],
   "source": [
    "import math\n",
    "import tracker"
   ]
  },
  {
   "cell_type": "code",
   "execution_count": 10,
   "id": "012573a7",
   "metadata": {},
   "outputs": [],
   "source": [
    "for x in range(2000):\n",
    "    y = tracker.log(x, math.cos(x/20),'q')"
   ]
  },
  {
   "cell_type": "code",
   "execution_count": null,
   "id": "9c00c8b3",
   "metadata": {},
   "outputs": [],
   "source": []
  }
 ],
 "metadata": {
  "kernelspec": {
   "display_name": "Python 3 (ipykernel)",
   "language": "python",
   "name": "python3"
  },
  "language_info": {
   "codemirror_mode": {
    "name": "ipython",
    "version": 3
   },
   "file_extension": ".py",
   "mimetype": "text/x-python",
   "name": "python",
   "nbconvert_exporter": "python",
   "pygments_lexer": "ipython3",
   "version": "3.10.6"
  }
 },
 "nbformat": 4,
 "nbformat_minor": 5
}
